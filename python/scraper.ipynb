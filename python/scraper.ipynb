{
 "cells": [
  {
   "cell_type": "code",
   "execution_count": 2,
   "id": "c8645a4f",
   "metadata": {},
   "outputs": [],
   "source": [
    "from espn_api.football import League"
   ]
  },
  {
   "cell_type": "code",
   "execution_count": 3,
   "id": "78443110",
   "metadata": {},
   "outputs": [],
   "source": [
    "league = League(\n",
    "    league_id=96479385,  # replace with your actual league ID\n",
    "    year=2025,  # replace with the year you want\n",
    "    espn_s2='AEBLTkLnfHujJ41yA7WpKNE7%2Fs1MzmaX4XuHY0L7e%2FcE9%2FOi33VZjDsjqMvEFQjblyLkMOk7Q%2F5Fu36u1vnKD%2B2tFbgnz%2FqHPDXri0Fb6sweFe4y9qPi16YSqjzrJvqLOUAhSiWhsgkrBkdbwtQZZrRUZChXSQrezVsqFSmYzuDZ9abyiXSwN86xA2OX%2BFuPqVCjxoNabbGhhTb%2FMKEuXEd6ByhZmSqaSRfocst5Gpku%2BgonBpesFR6qJJjHm%2BJSyQZfs1uoWR9TnsjrZxrw3IUv%2FLd6zi1s%2FbGunsNHBkF2Pg%3D%3D',\n",
    "    swid='{273A56A8-8D06-486D-8085-A3D29F8DA5D2}'\n",
    ")"
   ]
  },
  {
   "cell_type": "code",
   "execution_count": null,
   "id": "30e83358",
   "metadata": {},
   "outputs": [
    {
     "name": "stdout",
     "output_type": "stream",
     "text": [
      "Processing MuzzyCompany...\n",
      "Processing Coscia's Song Hurts My Ears...\n",
      "Processing STEVE'S TEAM...\n",
      "Processing slime out vanko wit tha uzis...\n",
      "Processing Steven Panagakos...\n",
      "Processing The Silence AMONG The LAMBS...\n",
      "Processing It's Time...\n",
      "Processing Brogerella...\n",
      "Processing Pulse check...\n",
      "Processing Mommy team...\n",
      "Processing Punxsutawney Fraud...\n",
      "Processing Final Boss...\n",
      "\n",
      "Done! Your spreadsheet has been saved as 'fantasy_rosters.xlsx'\n"
     ]
    }
   ],
   "source": [
    "from openpyxl import Workbook\n",
    "\n",
    "# Load roster data for week 9\n",
    "league.load_roster_week(9)\n",
    "\n",
    "# Create a new Excel workbook\n",
    "wb = Workbook()\n",
    "ws = wb.active\n",
    "ws.title = \"League Rosters\"\n",
    "\n",
    "# Add headers to the first row - now including Projected Points\n",
    "ws.append([\"Team Name\", \"Player Name\", \"Position\", \"NFL Team\", \"Roster Slot\", \"Injury Status\"])\n",
    "\n",
    "# Loop through each team in the league\n",
    "for team in league.teams:\n",
    "    print(f\"Processing {team.team_name}...\")\n",
    "    \n",
    "    # Loop through each player on this team's roster\n",
    "    for player in team.roster:\n",
    "        ws.append([\n",
    "            team.team_name,\n",
    "            player.name,\n",
    "            player.position,\n",
    "            player.proTeam,\n",
    "            player.lineupSlot,\n",
    "            player.injuryStatus\n",
    "        ])\n",
    "\n",
    "# Save the Excel file\n",
    "wb.save(\"fantasy_rosters.xlsx\")\n",
    "print(\"\\nDone! Your spreadsheet has been saved as 'fantasy_rosters.xlsx'\")"
   ]
  },
  {
   "cell_type": "code",
   "execution_count": 6,
   "id": "d32f60e1",
   "metadata": {},
   "outputs": [
    {
     "name": "stdout",
     "output_type": "stream",
     "text": [
      "Team Owners:\n",
      "  Matt McIsaac\n",
      "  Leon Ruiter\n",
      "  Matthew Haid\n",
      "  Timothy Kubik\n",
      "  Steven Panagakos\n",
      "  Matthew Coscia\n",
      "  Chris Vanko\n",
      "  Braeden Twomey\n",
      "  Justin Gaines\n",
      "  Jackson Noto\n",
      "  Matt Murawski\n",
      "  Matt Murawski\n",
      "  Alex Dodson\n"
     ]
    }
   ],
   "source": [
    "print(\"Team Owners:\")\n",
    "for team in league.teams:\n",
    "    # Loop through each owner for this team (usually just one, but could be multiple)\n",
    "    for owner in team.owners:\n",
    "        first_name = owner['firstName']\n",
    "        last_name = owner['lastName']\n",
    "        print(f\"  {first_name} {last_name}\")"
   ]
  }
 ],
 "metadata": {
  "kernelspec": {
   "display_name": "Python 3",
   "language": "python",
   "name": "python3"
  },
  "language_info": {
   "codemirror_mode": {
    "name": "ipython",
    "version": 3
   },
   "file_extension": ".py",
   "mimetype": "text/x-python",
   "name": "python",
   "nbconvert_exporter": "python",
   "pygments_lexer": "ipython3",
   "version": "3.11.4"
  }
 },
 "nbformat": 4,
 "nbformat_minor": 5
}
